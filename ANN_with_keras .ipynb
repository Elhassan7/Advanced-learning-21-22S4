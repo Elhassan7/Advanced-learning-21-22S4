{
  "cells": [
    {
      "cell_type": "markdown",
      "metadata": {
        "id": "GGq5Q_FjW-K3"
      },
      "source": [
        "# Artificial Neural Networks with Keras"
      ]
    },
    {
      "cell_type": "markdown",
      "metadata": {
        "id": "ZWvi1y40W-K7"
      },
      "source": [
        "<table align=\"left\">\n",
        "  <td>\n",
        "    <a target=\"_blank\" href=\"https://colab.research.google.com/github/AbdelMahm/INPT-2020/blob/master/Notebooks_DL/ANN_with_keras.ipynb\"><img src=\"https://colab.research.google.com/img/colab_favicon_256px.png\" />Run in Google Colab</a>\n",
        "  </td>\n",
        "</table>"
      ]
    },
    {
      "cell_type": "markdown",
      "metadata": {
        "id": "bBClx10RW-K8"
      },
      "source": [
        "# Setup"
      ]
    },
    {
      "cell_type": "markdown",
      "metadata": {},
      "source": [
        "Firstly, let's import a few common modules, ensure MatplotLib plots figures inline and prepare a function to save the figures. We also check that Python 3.5 or later is installed (although Python 2.x may work, it is deprecated so we strongly recommend you use Python 3 instead), as well as Scikit-Learn ≥0.20 and TensorFlow ≥2.0."
      ]
    },
    {
      "cell_type": "code",
      "execution_count": 5,
      "metadata": {
        "id": "PnmL_TRbW-K9"
      },
      "outputs": [],
      "source": [
        "# TensorFlow ≥2.0 is required\n",
        "import tensorflow as tf\n",
        "\n",
        "# Common imports\n",
        "import numpy as np\n",
        "import os\n",
        "\n",
        "# to make this notebook's output stable across runs\n",
        "np.random.seed(42)\n",
        "\n",
        "# To plot pretty figures\n",
        "%matplotlib inline\n",
        "import matplotlib as mpl\n",
        "import matplotlib.pyplot as plt\n",
        "mpl.rc('axes', labelsize=14)\n",
        "mpl.rc('xtick', labelsize=12)\n",
        "mpl.rc('ytick', labelsize=12)\n",
        "\n",
        "# Ignore useless warnings (see SciPy issue #5998)\n",
        "import warnings\n",
        "warnings.filterwarnings(action=\"ignore\", message=\"^internal gelsd\")"
      ]
    },
    {
      "cell_type": "markdown",
      "metadata": {
        "id": "C0NMmlH8W-K9"
      },
      "source": [
        "# Building an Image Classifier"
      ]
    },
    {
      "cell_type": "markdown",
      "metadata": {
        "id": "YFcr38YkW-K-"
      },
      "source": [
        "First let's import TensorFlow and Keras."
      ]
    },
    {
      "cell_type": "code",
      "execution_count": 6,
      "metadata": {
        "collapsed": true,
        "id": "l94Xa7m1W-K-"
      },
      "outputs": [],
      "source": [
        "import tensorflow as tf\n",
        "from tensorflow import keras"
      ]
    },
    {
      "cell_type": "code",
      "execution_count": 7,
      "metadata": {
        "colab": {
          "base_uri": "https://localhost:8080/",
          "height": 35
        },
        "id": "pT4xP5LMW-K_",
        "outputId": "e20de564-7213-4749-9384-69bd47e20ca7"
      },
      "outputs": [
        {
          "data": {
            "text/plain": [
              "'2.8.0'"
            ]
          },
          "execution_count": 7,
          "metadata": {},
          "output_type": "execute_result"
        }
      ],
      "source": [
        "tf.__version__"
      ]
    },
    {
      "cell_type": "markdown",
      "metadata": {
        "id": "2xPp5La8W-K_"
      },
      "source": [
        "Let's start by loading the fashion MNIST dataset. Keras has a number of functions to load popular datasets in `keras.datasets`. The dataset is already split for you between a training set and a test set, but it can be useful to split the training set further to have a validation set:"
      ]
    },
    {
      "cell_type": "code",
      "execution_count": 8,
      "metadata": {
        "colab": {
          "base_uri": "https://localhost:8080/"
        },
        "collapsed": true,
        "id": "DDM4jWA6W-K_",
        "outputId": "8e2d4248-a180-4b42-b609-7729e80554c0"
      },
      "outputs": [
        {
          "name": "stdout",
          "output_type": "stream",
          "text": [
            "Downloading data from https://storage.googleapis.com/tensorflow/tf-keras-datasets/train-labels-idx1-ubyte.gz\n",
            "32768/29515 [=================================] - 0s 1us/step\n",
            "40960/29515 [=========================================] - 0s 1us/step\n",
            "Downloading data from https://storage.googleapis.com/tensorflow/tf-keras-datasets/train-images-idx3-ubyte.gz\n",
            "26427392/26421880 [==============================] - 3s 0us/step\n",
            "26435584/26421880 [==============================] - 4s 0us/step\n",
            "Downloading data from https://storage.googleapis.com/tensorflow/tf-keras-datasets/t10k-labels-idx1-ubyte.gz\n",
            "16384/5148 [===============================================================================================] - 0s 0s/step\n",
            "Downloading data from https://storage.googleapis.com/tensorflow/tf-keras-datasets/t10k-images-idx3-ubyte.gz\n",
            "4423680/4422102 [==============================] - 1s 0us/step\n",
            "4431872/4422102 [==============================] - 1s 0us/step\n"
          ]
        }
      ],
      "source": [
        "fashion_mnist = keras.datasets.fashion_mnist\n",
        "(X_train_full, y_train_full), (X_test, y_test) = fashion_mnist.load_data()"
      ]
    },
    {
      "cell_type": "markdown",
      "metadata": {
        "id": "bdpijPJFW-LA"
      },
      "source": [
        "The training set contains 60,000 grayscale images, each 28x28 pixels:"
      ]
    },
    {
      "cell_type": "code",
      "execution_count": 9,
      "metadata": {
        "colab": {
          "base_uri": "https://localhost:8080/"
        },
        "id": "G5XkunuWW-LA",
        "outputId": "94c1fd56-b5ba-438f-c3d7-814b354010e1"
      },
      "outputs": [
        {
          "data": {
            "text/plain": [
              "(60000, 28, 28)"
            ]
          },
          "execution_count": 9,
          "metadata": {},
          "output_type": "execute_result"
        }
      ],
      "source": [
        "X_train_full.shape"
      ]
    },
    {
      "cell_type": "markdown",
      "metadata": {
        "id": "JOdtPpS0W-LA"
      },
      "source": [
        "Each pixel intensity is represented as a byte (0 to 255):"
      ]
    },
    {
      "cell_type": "code",
      "execution_count": 10,
      "metadata": {
        "colab": {
          "base_uri": "https://localhost:8080/"
        },
        "id": "-fcIdTmCW-LA",
        "outputId": "96e74ada-535c-4105-a297-b25559a1a505"
      },
      "outputs": [
        {
          "data": {
            "text/plain": [
              "dtype('uint8')"
            ]
          },
          "execution_count": 10,
          "metadata": {},
          "output_type": "execute_result"
        }
      ],
      "source": [
        "X_train_full.dtype"
      ]
    },
    {
      "cell_type": "markdown",
      "metadata": {
        "id": "U-HPTgpeW-LA"
      },
      "source": [
        "Let's split the full training set into a validation set and a (smaller) training set. We also scale the pixel intensities down to the 0-1 range and convert them to floats, by dividing by 255."
      ]
    },
    {
      "cell_type": "code",
      "execution_count": 11,
      "metadata": {
        "collapsed": true,
        "id": "drQqMQSzW-LB"
      },
      "outputs": [],
      "source": [
        "X_valid, X_train = X_train_full[:5000] / 255., X_train_full[5000:] / 255.\n",
        "y_valid, y_train = y_train_full[:5000], y_train_full[5000:]\n",
        "X_test = X_test / 255."
      ]
    },
    {
      "cell_type": "markdown",
      "metadata": {
        "id": "fKH9RPUgW-LB"
      },
      "source": [
        "You can plot an image using Matplotlib's `imshow()` function, with a `'binary'`\n",
        " color map:"
      ]
    },
    {
      "cell_type": "code",
      "execution_count": 15,
      "metadata": {
        "colab": {
          "base_uri": "https://localhost:8080/",
          "height": 248
        },
        "id": "a7WJWFAvW-LB",
        "outputId": "0ae9936e-4a93-40a9-d8cb-4d83fcfbd9d5"
      },
      "outputs": [
        {
          "data": {
            "image/png": "[encoded data removed]",
            "text/plain": [
              "<Figure size 432x288 with 1 Axes>"
            ]
          },
          "metadata": {
            "needs_background": "light"
          },
          "output_type": "display_data"
        }
      ],
      "source": [
        "plt.imshow(X_train[7], cmap=\"binary\")\n",
        "plt.axis('off')\n",
        "plt.show()"
      ]
    },
    {
      "cell_type": "markdown",
      "metadata": {
        "id": "FifaACwsW-LB"
      },
      "source": [
        "The labels are the class IDs (represented as uint8), from 0 to 9:"
      ]
    },
    {
      "cell_type": "code",
      "execution_count": 16,
      "metadata": {
        "colab": {
          "base_uri": "https://localhost:8080/"
        },
        "id": "MMXvZ0z_W-LC",
        "outputId": "168539bc-c375-4c5a-a6bb-f599792ba4b1"
      },
      "outputs": [
        {
          "data": {
            "text/plain": [
              "array([4, 0, 7, ..., 3, 0, 5], dtype=uint8)"
            ]
          },
          "execution_count": 16,
          "metadata": {},
          "output_type": "execute_result"
        }
      ],
      "source": [
        "y_train"
      ]
    },
    {
      "cell_type": "markdown",
      "metadata": {
        "id": "1Q1y6puFW-LC"
      },
      "source": [
        "Here are the corresponding class names:"
      ]
    },
    {
      "cell_type": "code",
      "execution_count": 17,
      "metadata": {
        "collapsed": true,
        "id": "jqt92NRMW-LC"
      },
      "outputs": [],
      "source": [
        "class_names = [\"T-shirt/top\", \"Trouser\", \"Pullover\", \"Dress\", \"Coat\",\n",
        "               \"Sandal\", \"Shirt\", \"Sneaker\", \"Bag\", \"Ankle boot\"]"
      ]
    },
    {
      "cell_type": "markdown",
      "metadata": {
        "id": "JrQfX9BuW-LC"
      },
      "source": [
        "So the first image in the training set is a coat:"
      ]
    },
    {
      "cell_type": "code",
      "execution_count": 19,
      "metadata": {},
      "outputs": [
        {
          "data": {
            "text/plain": [
              "4"
            ]
          },
          "execution_count": 19,
          "metadata": {},
          "output_type": "execute_result"
        }
      ],
      "source": [
        "y_train[0]"
      ]
    },
    {
      "cell_type": "code",
      "execution_count": 18,
      "metadata": {
        "colab": {
          "base_uri": "https://localhost:8080/",
          "height": 35
        },
        "id": "E9-L_QupW-LC",
        "outputId": "d62e98a4-3d7b-4cc2-bfc1-5c34f51c4c16"
      },
      "outputs": [
        {
          "data": {
            "text/plain": [
              "'Coat'"
            ]
          },
          "execution_count": 18,
          "metadata": {},
          "output_type": "execute_result"
        }
      ],
      "source": [
        "class_names[y_train[0]]"
      ]
    },
    {
      "cell_type": "markdown",
      "metadata": {
        "id": "ImMzOFPYW-LC"
      },
      "source": [
        "The validation set contains 5,000 images, and the test set contains 10,000 images:"
      ]
    },
    {
      "cell_type": "code",
      "execution_count": 20,
      "metadata": {
        "colab": {
          "base_uri": "https://localhost:8080/"
        },
        "id": "Gys3ODEKW-LC",
        "outputId": "ec45a02d-7293-491f-e39d-f19b2c6fb1a7"
      },
      "outputs": [
        {
          "data": {
            "text/plain": [
              "(5000, 28, 28)"
            ]
          },
          "execution_count": 20,
          "metadata": {},
          "output_type": "execute_result"
        }
      ],
      "source": [
        "X_valid.shape"
      ]
    },
    {
      "cell_type": "code",
      "execution_count": 21,
      "metadata": {
        "colab": {
          "base_uri": "https://localhost:8080/"
        },
        "id": "V7NYAWu6W-LE",
        "outputId": "024c846c-acc8-406f-a7bc-4c113abad6da"
      },
      "outputs": [
        {
          "data": {
            "text/plain": [
              "(10000, 28, 28)"
            ]
          },
          "execution_count": 21,
          "metadata": {},
          "output_type": "execute_result"
        }
      ],
      "source": [
        "X_test.shape"
      ]
    },
    {
      "cell_type": "markdown",
      "metadata": {
        "id": "Q3BgFBNNW-LE"
      },
      "source": [
        "Let's take a look at a sample of the images in the dataset:"
      ]
    },
    {
      "cell_type": "code",
      "execution_count": 22,
      "metadata": {
        "colab": {
          "base_uri": "https://localhost:8080/",
          "height": 308
        },
        "id": "FHfrelaYW-LE",
        "outputId": "7e3e4148-dca5-42e7-edbe-012be1818914"
      },
      "outputs": [
        {
          "data": {
            "image/png": "[encoded data removed]",
            "text/plain": [
              "<Figure size 864x345.6 with 40 Axes>"
            ]
          },
          "metadata": {
            "needs_background": "light"
          },
          "output_type": "display_data"
        }
      ],
      "source": [
        "n_rows = 4\n",
        "n_cols = 10\n",
        "plt.figure(figsize=(n_cols * 1.2, n_rows * 1.2))\n",
        "for row in range(n_rows):\n",
        "    for col in range(n_cols):\n",
        "        index = n_cols * row + col\n",
        "        plt.subplot(n_rows, n_cols, index + 1)\n",
        "        plt.imshow(X_train[index], cmap=\"binary\", interpolation=\"nearest\")\n",
        "        plt.axis('off')\n",
        "        plt.title(class_names[y_train[index]], fontsize=12)\n",
        "plt.subplots_adjust(wspace=0.2, hspace=0.5)\n",
        "plt.show()"
      ]
    },
    {
      "cell_type": "markdown",
      "metadata": {
        "id": "g8GdpjQwW-LE"
      },
      "source": [
        "## Construct a Model"
      ]
    },
    {
      "cell_type": "code",
      "execution_count": 23,
      "metadata": {
        "collapsed": true,
        "id": "4moz7eyzW-LE"
      },
      "outputs": [],
      "source": [
        "model = keras.models.Sequential()\n",
        "model.add(keras.layers.Flatten(input_shape=[28, 28]))\n",
        "model.add(keras.layers.Dense(300, activation=\"relu\"))\n",
        "model.add(keras.layers.Dense(100, activation=\"relu\"))\n",
        "model.add(keras.layers.Dense(10, activation=\"softmax\"))"
      ]
    },
    {
      "cell_type": "code",
      "execution_count": 24,
      "metadata": {
        "collapsed": true,
        "id": "qW6QS-ggW-LE"
      },
      "outputs": [],
      "source": [
        "keras.backend.clear_session()\n",
        "np.random.seed(42)"
      ]
    },
    {
      "cell_type": "markdown",
      "metadata": {
        "id": "Cc3Gz-htW-LE"
      },
      "source": [
        "### or using the folowing method"
      ]
    },
    {
      "cell_type": "code",
      "execution_count": 25,
      "metadata": {
        "collapsed": true,
        "id": "MC_TlWEcW-LE"
      },
      "outputs": [],
      "source": [
        "model = keras.models.Sequential([\n",
        "    keras.layers.Flatten(input_shape=[28, 28]),\n",
        "    keras.layers.Dense(300, activation=\"relu\"),\n",
        "    keras.layers.Dense(100, activation=\"relu\"),\n",
        "    keras.layers.Dense(10, activation=\"softmax\")\n",
        "])"
      ]
    },
    {
      "cell_type": "code",
      "execution_count": 26,
      "metadata": {
        "colab": {
          "base_uri": "https://localhost:8080/"
        },
        "id": "Bebyx1tiW-LF",
        "outputId": "656843e2-50d1-48c1-9835-5ee13787b842"
      },
      "outputs": [
        {
          "data": {
            "text/plain": [
              "[<keras.layers.core.flatten.Flatten at 0x29c1a5163e0>,\n",
              " <keras.layers.core.dense.Dense at 0x29c1a516cb0>,\n",
              " <keras.layers.core.dense.Dense at 0x29c7ff7c700>,\n",
              " <keras.layers.core.dense.Dense at 0x29c7ff7e770>]"
            ]
          },
          "execution_count": 26,
          "metadata": {},
          "output_type": "execute_result"
        }
      ],
      "source": [
        "model.layers"
      ]
    },
    {
      "cell_type": "code",
      "execution_count": 27,
      "metadata": {
        "colab": {
          "base_uri": "https://localhost:8080/"
        },
        "id": "2mEXtQ26W-LF",
        "outputId": "2d210e32-fb24-4dcc-ddc3-c89921155673"
      },
      "outputs": [
        {
          "name": "stdout",
          "output_type": "stream",
          "text": [
            "Model: \"sequential\"\n",
            "_________________________________________________________________\n",
            " Layer (type)                Output Shape              Param #   \n",
            "=================================================================\n",
            " flatten (Flatten)           (None, 784)               0         \n",
            "                                                                 \n",
            " dense (Dense)               (None, 300)               235500    \n",
            "                                                                 \n",
            " dense_1 (Dense)             (None, 100)               30100     \n",
            "                                                                 \n",
            " dense_2 (Dense)             (None, 10)                1010      \n",
            "                                                                 \n",
            "=================================================================\n",
            "Total params: 266,610\n",
            "Trainable params: 266,610\n",
            "Non-trainable params: 0\n",
            "_________________________________________________________________\n"
          ]
        }
      ],
      "source": [
        "model.summary()"
      ]
    },
    {
      "cell_type": "code",
      "execution_count": 21,
      "metadata": {
        "collapsed": true,
        "id": "-KR3pwsVW-LF"
      },
      "outputs": [],
      "source": [
        "#keras.utils.plot_model(model, \"my_mnist_model.png\", show_shapes=True)"
      ]
    },
    {
      "cell_type": "code",
      "execution_count": 28,
      "metadata": {
        "colab": {
          "base_uri": "https://localhost:8080/",
          "height": 0
        },
        "id": "cfjAQ9hmW-LF",
        "outputId": "eb6f0212-ee84-42fe-ca8d-3944bc930d28"
      },
      "outputs": [
        {
          "data": {
            "text/plain": [
              "'dense'"
            ]
          },
          "execution_count": 28,
          "metadata": {},
          "output_type": "execute_result"
        }
      ],
      "source": [
        "hidden1 = model.layers[1]\n",
        "hidden1.name"
      ]
    },
    {
      "cell_type": "code",
      "execution_count": 29,
      "metadata": {
        "colab": {
          "base_uri": "https://localhost:8080/"
        },
        "id": "TRrfiiVCW-LF",
        "outputId": "3eaab14d-2d1d-4b2b-c966-9387197a04b2"
      },
      "outputs": [
        {
          "data": {
            "text/plain": [
              "True"
            ]
          },
          "execution_count": 29,
          "metadata": {},
          "output_type": "execute_result"
        }
      ],
      "source": [
        "model.get_layer(hidden1.name) is hidden1"
      ]
    },
    {
      "cell_type": "code",
      "execution_count": 30,
      "metadata": {
        "collapsed": true,
        "id": "Lt6FfP1vW-LF"
      },
      "outputs": [],
      "source": [
        "weights, biases = hidden1.get_weights()"
      ]
    },
    {
      "cell_type": "code",
      "execution_count": 31,
      "metadata": {
        "colab": {
          "base_uri": "https://localhost:8080/"
        },
        "id": "tX_2NmNPW-LF",
        "outputId": "73159de1-bfb9-44db-f553-4df579e6d805"
      },
      "outputs": [
        {
          "data": {
            "text/plain": [
              "array([[-0.0112348 , -0.03483202, -0.03595975, ..., -0.00840872,\n",
              "         0.02643824,  0.06995866],\n",
              "       [-0.0622174 ,  0.05319916,  0.03744468, ...,  0.04900258,\n",
              "         0.00427967,  0.02021929],\n",
              "       [-0.01587974, -0.02756941, -0.00281294, ...,  0.04982504,\n",
              "         0.01766291, -0.00719861],\n",
              "       ...,\n",
              "       [ 0.00972795, -0.06858423,  0.07177235, ...,  0.02531698,\n",
              "        -0.04104866, -0.03784868],\n",
              "       [-0.02973263, -0.04966753, -0.02394531, ...,  0.02491154,\n",
              "         0.03247409,  0.0016934 ],\n",
              "       [-0.04853391,  0.0364758 , -0.00827939, ..., -0.06740534,\n",
              "         0.02054524, -0.0220806 ]], dtype=float32)"
            ]
          },
          "execution_count": 31,
          "metadata": {},
          "output_type": "execute_result"
        }
      ],
      "source": [
        "weights"
      ]
    },
    {
      "cell_type": "code",
      "execution_count": 32,
      "metadata": {
        "colab": {
          "base_uri": "https://localhost:8080/"
        },
        "id": "6YXgYz97W-LF",
        "outputId": "81b9bf5a-fd18-452c-b40a-a761096dd026"
      },
      "outputs": [
        {
          "data": {
            "text/plain": [
              "(784, 300)"
            ]
          },
          "execution_count": 32,
          "metadata": {},
          "output_type": "execute_result"
        }
      ],
      "source": [
        "weights.shape"
      ]
    },
    {
      "cell_type": "code",
      "execution_count": 33,
      "metadata": {
        "colab": {
          "base_uri": "https://localhost:8080/"
        },
        "id": "-muG25p5W-LG",
        "outputId": "bfdeab25-7fca-4f2d-8743-be147da626c5"
      },
      "outputs": [
        {
          "data": {
            "text/plain": [
              "array([0., 0., 0., 0., 0., 0., 0., 0., 0., 0., 0., 0., 0., 0., 0., 0., 0.,\n",
              "       0., 0., 0., 0., 0., 0., 0., 0., 0., 0., 0., 0., 0., 0., 0., 0., 0.,\n",
              "       0., 0., 0., 0., 0., 0., 0., 0., 0., 0., 0., 0., 0., 0., 0., 0., 0.,\n",
              "       0., 0., 0., 0., 0., 0., 0., 0., 0., 0., 0., 0., 0., 0., 0., 0., 0.,\n",
              "       0., 0., 0., 0., 0., 0., 0., 0., 0., 0., 0., 0., 0., 0., 0., 0., 0.,\n",
              "       0., 0., 0., 0., 0., 0., 0., 0., 0., 0., 0., 0., 0., 0., 0., 0., 0.,\n",
              "       0., 0., 0., 0., 0., 0., 0., 0., 0., 0., 0., 0., 0., 0., 0., 0., 0.,\n",
              "       0., 0., 0., 0., 0., 0., 0., 0., 0., 0., 0., 0., 0., 0., 0., 0., 0.,\n",
              "       0., 0., 0., 0., 0., 0., 0., 0., 0., 0., 0., 0., 0., 0., 0., 0., 0.,\n",
              "       0., 0., 0., 0., 0., 0., 0., 0., 0., 0., 0., 0., 0., 0., 0., 0., 0.,\n",
              "       0., 0., 0., 0., 0., 0., 0., 0., 0., 0., 0., 0., 0., 0., 0., 0., 0.,\n",
              "       0., 0., 0., 0., 0., 0., 0., 0., 0., 0., 0., 0., 0., 0., 0., 0., 0.,\n",
              "       0., 0., 0., 0., 0., 0., 0., 0., 0., 0., 0., 0., 0., 0., 0., 0., 0.,\n",
              "       0., 0., 0., 0., 0., 0., 0., 0., 0., 0., 0., 0., 0., 0., 0., 0., 0.,\n",
              "       0., 0., 0., 0., 0., 0., 0., 0., 0., 0., 0., 0., 0., 0., 0., 0., 0.,\n",
              "       0., 0., 0., 0., 0., 0., 0., 0., 0., 0., 0., 0., 0., 0., 0., 0., 0.,\n",
              "       0., 0., 0., 0., 0., 0., 0., 0., 0., 0., 0., 0., 0., 0., 0., 0., 0.,\n",
              "       0., 0., 0., 0., 0., 0., 0., 0., 0., 0., 0.], dtype=float32)"
            ]
          },
          "execution_count": 33,
          "metadata": {},
          "output_type": "execute_result"
        }
      ],
      "source": [
        "biases"
      ]
    },
    {
      "cell_type": "code",
      "execution_count": 34,
      "metadata": {
        "colab": {
          "base_uri": "https://localhost:8080/"
        },
        "id": "sdoW7n3YW-LG",
        "outputId": "636a5f8a-c934-4ddc-c2c0-ecf1e924d70a"
      },
      "outputs": [
        {
          "data": {
            "text/plain": [
              "(300,)"
            ]
          },
          "execution_count": 34,
          "metadata": {},
          "output_type": "execute_result"
        }
      ],
      "source": [
        "biases.shape"
      ]
    },
    {
      "cell_type": "markdown",
      "metadata": {
        "id": "jCmaOTDmW-LG"
      },
      "source": [
        "### Compile the Model\n",
        "Here you can chose the loss function, the optimizer, the performance metric, etc. check Keras documentation for further details."
      ]
    },
    {
      "cell_type": "code",
      "execution_count": 35,
      "metadata": {
        "collapsed": true,
        "id": "Me6AGlCBW-LG"
      },
      "outputs": [],
      "source": [
        "model.compile(loss=\"sparse_categorical_crossentropy\",\n",
        "              optimizer=\"sgd\",\n",
        "              metrics=[\"accuracy\"])"
      ]
    },
    {
      "cell_type": "markdown",
      "metadata": {
        "id": "NDPmL9STW-LG"
      },
      "source": [
        "This is equivalent to:"
      ]
    },
    {
      "cell_type": "markdown",
      "metadata": {
        "id": "xghgPtszW-LG"
      },
      "source": [
        "```python\n",
        "model.compile(loss=keras.losses.sparse_categorical_crossentropy,\n",
        "              optimizer=keras.optimizers.SGD(),\n",
        "              metrics=[keras.metrics.sparse_categorical_accuracy])\n",
        "```"
      ]
    },
    {
      "cell_type": "markdown",
      "metadata": {
        "id": "x39dB8kcW-LG"
      },
      "source": [
        "### Train the model\n",
        "Here you can chose how many epochs you need and the batch size."
      ]
    },
    {
      "cell_type": "code",
      "execution_count": 36,
      "metadata": {
        "colab": {
          "base_uri": "https://localhost:8080/"
        },
        "id": "wAJHAdKzW-LG",
        "outputId": "186d36cb-a4af-4798-8375-4717b3075efb"
      },
      "outputs": [
        {
          "name": "stdout",
          "output_type": "stream",
          "text": [
            "Epoch 1/30\n",
            "1719/1719 [==============================] - 7s 4ms/step - loss: 0.7194 - accuracy: 0.7640 - val_loss: 0.5021 - val_accuracy: 0.8388\n",
            "Epoch 2/30\n",
            "1719/1719 [==============================] - 6s 3ms/step - loss: 0.4894 - accuracy: 0.8293 - val_loss: 0.4358 - val_accuracy: 0.8550\n",
            "Epoch 3/30\n",
            "1719/1719 [==============================] - 5s 3ms/step - loss: 0.4436 - accuracy: 0.8445 - val_loss: 0.4084 - val_accuracy: 0.8644\n",
            "Epoch 4/30\n",
            "1719/1719 [==============================] - 6s 3ms/step - loss: 0.4157 - accuracy: 0.8531 - val_loss: 0.3955 - val_accuracy: 0.8644\n",
            "Epoch 5/30\n",
            "1719/1719 [==============================] - 6s 3ms/step - loss: 0.3955 - accuracy: 0.8615 - val_loss: 0.3922 - val_accuracy: 0.8658\n",
            "Epoch 6/30\n",
            "1719/1719 [==============================] - 6s 3ms/step - loss: 0.3790 - accuracy: 0.8664 - val_loss: 0.3812 - val_accuracy: 0.8690\n",
            "Epoch 7/30\n",
            "1719/1719 [==============================] - 6s 4ms/step - loss: 0.3653 - accuracy: 0.8719 - val_loss: 0.3619 - val_accuracy: 0.8754\n",
            "Epoch 8/30\n",
            "1719/1719 [==============================] - 7s 4ms/step - loss: 0.3532 - accuracy: 0.8753 - val_loss: 0.3615 - val_accuracy: 0.8730\n",
            "Epoch 9/30\n",
            "1719/1719 [==============================] - 4s 3ms/step - loss: 0.3428 - accuracy: 0.8783 - val_loss: 0.3472 - val_accuracy: 0.8790\n",
            "Epoch 10/30\n",
            "1719/1719 [==============================] - 5s 3ms/step - loss: 0.3329 - accuracy: 0.8814 - val_loss: 0.3483 - val_accuracy: 0.8760\n",
            "Epoch 11/30\n",
            "1719/1719 [==============================] - 5s 3ms/step - loss: 0.3246 - accuracy: 0.8850 - val_loss: 0.3371 - val_accuracy: 0.8814\n",
            "Epoch 12/30\n",
            "1719/1719 [==============================] - 5s 3ms/step - loss: 0.3169 - accuracy: 0.8858 - val_loss: 0.3555 - val_accuracy: 0.8726\n",
            "Epoch 13/30\n",
            "1719/1719 [==============================] - 7s 4ms/step - loss: 0.3095 - accuracy: 0.8891 - val_loss: 0.3478 - val_accuracy: 0.8746\n",
            "Epoch 14/30\n",
            "1719/1719 [==============================] - 5s 3ms/step - loss: 0.3023 - accuracy: 0.8907 - val_loss: 0.3285 - val_accuracy: 0.8814\n",
            "Epoch 15/30\n",
            "1719/1719 [==============================] - 4s 3ms/step - loss: 0.2977 - accuracy: 0.8917 - val_loss: 0.3245 - val_accuracy: 0.8824\n",
            "Epoch 16/30\n",
            "1719/1719 [==============================] - 6s 4ms/step - loss: 0.2903 - accuracy: 0.8967 - val_loss: 0.3191 - val_accuracy: 0.8898\n",
            "Epoch 17/30\n",
            "1719/1719 [==============================] - 6s 4ms/step - loss: 0.2840 - accuracy: 0.8974 - val_loss: 0.3174 - val_accuracy: 0.8864\n",
            "Epoch 18/30\n",
            "1719/1719 [==============================] - 6s 4ms/step - loss: 0.2798 - accuracy: 0.8989 - val_loss: 0.3058 - val_accuracy: 0.8930\n",
            "Epoch 19/30\n",
            "1719/1719 [==============================] - 6s 4ms/step - loss: 0.2745 - accuracy: 0.9021 - val_loss: 0.3158 - val_accuracy: 0.8862\n",
            "Epoch 20/30\n",
            "1719/1719 [==============================] - 7s 4ms/step - loss: 0.2692 - accuracy: 0.9036 - val_loss: 0.3068 - val_accuracy: 0.8848\n",
            "Epoch 21/30\n",
            "1719/1719 [==============================] - 6s 4ms/step - loss: 0.2646 - accuracy: 0.9036 - val_loss: 0.2998 - val_accuracy: 0.8944\n",
            "Epoch 22/30\n",
            "1719/1719 [==============================] - 6s 4ms/step - loss: 0.2594 - accuracy: 0.9064 - val_loss: 0.3139 - val_accuracy: 0.8850\n",
            "Epoch 23/30\n",
            "1719/1719 [==============================] - 7s 4ms/step - loss: 0.2543 - accuracy: 0.9082 - val_loss: 0.3136 - val_accuracy: 0.8860\n",
            "Epoch 24/30\n",
            "1719/1719 [==============================] - 6s 4ms/step - loss: 0.2500 - accuracy: 0.9101 - val_loss: 0.3136 - val_accuracy: 0.8888\n",
            "Epoch 25/30\n",
            "1719/1719 [==============================] - 7s 4ms/step - loss: 0.2458 - accuracy: 0.9106 - val_loss: 0.3052 - val_accuracy: 0.8908\n",
            "Epoch 26/30\n",
            "1719/1719 [==============================] - 6s 4ms/step - loss: 0.2416 - accuracy: 0.9125 - val_loss: 0.3043 - val_accuracy: 0.8914\n",
            "Epoch 27/30\n",
            "1719/1719 [==============================] - 6s 4ms/step - loss: 0.2375 - accuracy: 0.9143 - val_loss: 0.3036 - val_accuracy: 0.8898\n",
            "Epoch 28/30\n",
            "1719/1719 [==============================] - 6s 4ms/step - loss: 0.2335 - accuracy: 0.9156 - val_loss: 0.3103 - val_accuracy: 0.8882\n",
            "Epoch 29/30\n",
            "1719/1719 [==============================] - 6s 4ms/step - loss: 0.2296 - accuracy: 0.9171 - val_loss: 0.3013 - val_accuracy: 0.8920\n",
            "Epoch 30/30\n",
            "1719/1719 [==============================] - 6s 4ms/step - loss: 0.2265 - accuracy: 0.9176 - val_loss: 0.2952 - val_accuracy: 0.8952\n"
          ]
        }
      ],
      "source": [
        "history = model.fit(X_train, y_train, batch_size=32, epochs=30,\n",
        "                    validation_data=(X_valid, y_valid))"
      ]
    },
    {
      "cell_type": "code",
      "execution_count": 37,
      "metadata": {
        "id": "ZhC7SREbW-LG"
      },
      "outputs": [
        {
          "data": {
            "text/plain": [
              "{'verbose': 1, 'epochs': 30, 'steps': 1719}"
            ]
          },
          "execution_count": 37,
          "metadata": {},
          "output_type": "execute_result"
        }
      ],
      "source": [
        "history.params"
      ]
    },
    {
      "cell_type": "code",
      "execution_count": 38,
      "metadata": {
        "id": "38D_Es7MW-LG"
      },
      "outputs": [
        {
          "name": "stdout",
          "output_type": "stream",
          "text": [
            "[0, 1, 2, 3, 4, 5, 6, 7, 8, 9, 10, 11, 12, 13, 14, 15, 16, 17, 18, 19, 20, 21, 22, 23, 24, 25, 26, 27, 28, 29]\n"
          ]
        }
      ],
      "source": [
        "print(history.epoch)"
      ]
    },
    {
      "cell_type": "code",
      "execution_count": 66,
      "metadata": {
        "id": "YIEObQ5rW-LG"
      },
      "outputs": [
        {
          "data": {
            "text/plain": [
              "dict_keys(['loss', 'accuracy', 'val_loss', 'val_accuracy'])"
            ]
          },
          "execution_count": 66,
          "metadata": {},
          "output_type": "execute_result"
        }
      ],
      "source": [
        "history.history.keys()"
      ]
    },
    {
      "cell_type": "markdown",
      "metadata": {
        "id": "NHvLK7UCW-LG"
      },
      "source": [
        "### Plot learning Curves"
      ]
    },
    {
      "cell_type": "code",
      "execution_count": 100,
      "metadata": {
        "id": "1RJjIcNPW-LH"
      },
      "outputs": [
        {
          "data": {
            "image/png": "[encoded data removed]",
            "text/plain": [
              "<Figure size 576x360 with 1 Axes>"
            ]
          },
          "metadata": {
            "needs_background": "light"
          },
          "output_type": "display_data"
        }
      ],
      "source": [
        "import pandas as pd\n",
        "\n",
        "pd.DataFrame(history.history).plot(figsize=(8, 5))\n",
        "plt.grid(True)\n",
        "plt.gca().set_ylim(0, 1)\n",
        "plt.show()"
      ]
    },
    {
      "cell_type": "code",
      "execution_count": 41,
      "metadata": {
        "id": "LkTSz-SrW-LH"
      },
      "outputs": [
        {
          "name": "stdout",
          "output_type": "stream",
          "text": [
            "313/313 [==============================] - 1s 3ms/step - loss: 0.3265 - accuracy: 0.8828\n"
          ]
        },
        {
          "data": {
            "text/plain": [
              "[0.326519250869751, 0.8827999830245972]"
            ]
          },
          "execution_count": 41,
          "metadata": {},
          "output_type": "execute_result"
        }
      ],
      "source": [
        "model.evaluate(X_test, y_test)"
      ]
    },
    {
      "cell_type": "code",
      "execution_count": 42,
      "metadata": {
        "id": "BE1-c3cbW-LH"
      },
      "outputs": [
        {
          "data": {
            "text/plain": [
              "array([[0.  , 0.  , 0.  , 0.  , 0.  , 0.01, 0.  , 0.02, 0.  , 0.98],\n",
              "       [0.  , 0.  , 1.  , 0.  , 0.  , 0.  , 0.  , 0.  , 0.  , 0.  ],\n",
              "       [0.  , 1.  , 0.  , 0.  , 0.  , 0.  , 0.  , 0.  , 0.  , 0.  ]],\n",
              "      dtype=float32)"
            ]
          },
          "execution_count": 42,
          "metadata": {},
          "output_type": "execute_result"
        }
      ],
      "source": [
        "X_new = X_test[:3]\n",
        "y_proba = model.predict(X_new)\n",
        "y_proba.round(2)"
      ]
    },
    {
      "cell_type": "code",
      "execution_count": 60,
      "metadata": {
        "id": "8TXRyxLBW-LH"
      },
      "outputs": [
        {
          "data": {
            "text/plain": [
              "array([9, 2, 1], dtype=int64)"
            ]
          },
          "execution_count": 60,
          "metadata": {},
          "output_type": "execute_result"
        }
      ],
      "source": [
        "y_pred = model.predict(X_new)\n",
        "y_predx=np.argmax(y_pred,axis=1)\n",
        "y_predx"
      ]
    },
    {
      "cell_type": "code",
      "execution_count": 62,
      "metadata": {
        "id": "T61B-sSAW-LH"
      },
      "outputs": [
        {
          "data": {
            "text/plain": [
              "array(['Ankle boot', 'Pullover', 'Trouser'], dtype='<U11')"
            ]
          },
          "execution_count": 62,
          "metadata": {},
          "output_type": "execute_result"
        }
      ],
      "source": [
        "np.array(class_names)[y_predx]"
      ]
    },
    {
      "cell_type": "code",
      "execution_count": 63,
      "metadata": {
        "id": "x3ulfGxIW-LH"
      },
      "outputs": [
        {
          "data": {
            "text/plain": [
              "array([9, 2, 1], dtype=uint8)"
            ]
          },
          "execution_count": 63,
          "metadata": {},
          "output_type": "execute_result"
        }
      ],
      "source": [
        "y_new = y_test[:3]\n",
        "y_new"
      ]
    },
    {
      "cell_type": "code",
      "execution_count": 64,
      "metadata": {
        "id": "SyEnmI8yW-LH"
      },
      "outputs": [
        {
          "data": {
            "image/png": "[encoded data removed]",
            "text/plain": [
              "<Figure size 518.4x172.8 with 3 Axes>"
            ]
          },
          "metadata": {
            "needs_background": "light"
          },
          "output_type": "display_data"
        }
      ],
      "source": [
        "plt.figure(figsize=(7.2, 2.4))\n",
        "for index, image in enumerate(X_new):\n",
        "    plt.subplot(1, 3, index + 1)\n",
        "    plt.imshow(image, cmap=\"binary\", interpolation=\"nearest\")\n",
        "    plt.axis('off')\n",
        "    plt.title(class_names[y_test[index]], fontsize=12)\n",
        "plt.subplots_adjust(wspace=0.2, hspace=0.5)\n",
        "plt.show()"
      ]
    },
    {
      "cell_type": "markdown",
      "metadata": {
        "collapsed": true,
        "id": "k_D3BJHPW-LH"
      },
      "source": [
        "## Exercise"
      ]
    },
    {
      "cell_type": "markdown",
      "metadata": {
        "id": "cF7r17BNW-LH"
      },
      "source": [
        "#### 1) Plot Learning curves when using different optimizers\n",
        "#### 2) Plot Learning curves when using different batch size\n",
        "#### 3) Plot Learning curves when using different number of epochs\n",
        "#### 4) Add additional neurons and use Dropout Layer. Plot Learning curves.\n",
        "#### 5) Use Batch Normalisation\n",
        "#### 6) repeat with more layers\n",
        "#### 7) apply on different datasets"
      ]
    },
    {
      "cell_type": "markdown",
      "metadata": {},
      "source": [
        "## 1) Plot Learning curves when using different optimizers\n"
      ]
    },
    {
      "cell_type": "markdown",
      "metadata": {},
      "source": [
        "Learning curves using \"Adam\" optimizer"
      ]
    },
    {
      "cell_type": "code",
      "execution_count": null,
      "metadata": {
        "collapsed": true,
        "id": "ZlpWS_nkW-LH"
      },
      "outputs": [],
      "source": [
        "model_1 = keras.models.Sequential([\n",
        "    keras.layers.Flatten(input_shape=[28, 28]),\n",
        "    keras.layers.Dense(300, activation=\"relu\"),\n",
        "    keras.layers.Dense(100, activation=\"relu\"),\n",
        "    keras.layers.Dense(10, activation=\"softmax\")\n",
        "])\n",
        "\n",
        "model_1.compile(loss=\"sparse_categorical_crossentropy\",\n",
        "              optimizer=\"adam\",\n",
        "              metrics=[\"accuracy\"])\n",
        "\n",
        "history_1 = model_1.fit(X_train, y_train, batch_size=32, epochs=30,\n",
        "                    validation_data=(X_valid, y_valid))"
      ]
    },
    {
      "cell_type": "code",
      "execution_count": 141,
      "metadata": {},
      "outputs": [
        {
          "data": {
            "image/png": "[encoded data removed]",
            "text/plain": [
              "<Figure size 1332x252 with 2 Axes>"
            ]
          },
          "metadata": {
            "needs_background": "light"
          },
          "output_type": "display_data"
        }
      ],
      "source": [
        "import pandas as pd\n",
        "\n",
        "data = pd.DataFrame(history.history)\n",
        "data_1= pd.DataFrame(history_1.history)\n",
        "\n",
        "f, (ax1, ax2) = plt.subplots(1, 2)\n",
        "f.set_size_inches(18.5, 3.5)\n",
        "f.suptitle('Learning curves using', fontsize=16)\n",
        "\n",
        "\n",
        "ax1.plot(data_1)\n",
        "ax1.set_title(' \"Adam\" optimizer')\n",
        "ax1.grid(True)\n",
        "\n",
        "ax2.plot(data)\n",
        "ax2.set_title('\"SGD\" optimizer')\n",
        "ax2.grid(True)\n",
        "ax2.set\n",
        "\n",
        "f.legend(data_1.columns, loc='center')\n",
        "plt.show()"
      ]
    },
    {
      "cell_type": "markdown",
      "metadata": {},
      "source": [
        "## 2) Plot Learning curves when using different batch size\n"
      ]
    },
    {
      "cell_type": "code",
      "execution_count": 142,
      "metadata": {},
      "outputs": [
        {
          "name": "stdout",
          "output_type": "stream",
          "text": [
            "Epoch 1/30\n",
            "3667/3667 [==============================] - 12s 3ms/step - loss: 0.6111 - accuracy: 0.7918 - val_loss: 0.4937 - val_accuracy: 0.8204\n",
            "Epoch 2/30\n",
            "3667/3667 [==============================] - 13s 3ms/step - loss: 0.4425 - accuracy: 0.8443 - val_loss: 0.4019 - val_accuracy: 0.8576\n",
            "Epoch 3/30\n",
            "3667/3667 [==============================] - 13s 4ms/step - loss: 0.4004 - accuracy: 0.8575 - val_loss: 0.3821 - val_accuracy: 0.8680\n",
            "Epoch 4/30\n",
            "3667/3667 [==============================] - 13s 4ms/step - loss: 0.3700 - accuracy: 0.8677 - val_loss: 0.3679 - val_accuracy: 0.8682\n",
            "Epoch 5/30\n",
            "3667/3667 [==============================] - 13s 4ms/step - loss: 0.3496 - accuracy: 0.8754 - val_loss: 0.3397 - val_accuracy: 0.8824\n",
            "Epoch 6/30\n",
            "3667/3667 [==============================] - 12s 3ms/step - loss: 0.3337 - accuracy: 0.8799 - val_loss: 0.3304 - val_accuracy: 0.8826\n",
            "Epoch 7/30\n",
            "3667/3667 [==============================] - 11s 3ms/step - loss: 0.3204 - accuracy: 0.8835 - val_loss: 0.3353 - val_accuracy: 0.8778\n",
            "Epoch 8/30\n",
            "3667/3667 [==============================] - 11s 3ms/step - loss: 0.3074 - accuracy: 0.8881 - val_loss: 0.3302 - val_accuracy: 0.8840\n",
            "Epoch 9/30\n",
            "3667/3667 [==============================] - 10s 3ms/step - loss: 0.2973 - accuracy: 0.8917 - val_loss: 0.3109 - val_accuracy: 0.8868\n",
            "Epoch 10/30\n",
            "3667/3667 [==============================] - 9s 2ms/step - loss: 0.2868 - accuracy: 0.8959 - val_loss: 0.3174 - val_accuracy: 0.8826\n",
            "Epoch 11/30\n",
            "3667/3667 [==============================] - 9s 2ms/step - loss: 0.2769 - accuracy: 0.8988 - val_loss: 0.3143 - val_accuracy: 0.8872\n",
            "Epoch 12/30\n",
            "3667/3667 [==============================] - 9s 2ms/step - loss: 0.2698 - accuracy: 0.9017 - val_loss: 0.3130 - val_accuracy: 0.8860\n",
            "Epoch 13/30\n",
            "3667/3667 [==============================] - 9s 3ms/step - loss: 0.2611 - accuracy: 0.9043 - val_loss: 0.3082 - val_accuracy: 0.8892\n",
            "Epoch 14/30\n",
            "3667/3667 [==============================] - 11s 3ms/step - loss: 0.2546 - accuracy: 0.9062 - val_loss: 0.2972 - val_accuracy: 0.8918\n",
            "Epoch 15/30\n",
            "3667/3667 [==============================] - 10s 3ms/step - loss: 0.2466 - accuracy: 0.9086 - val_loss: 0.3016 - val_accuracy: 0.8912\n",
            "Epoch 16/30\n",
            "3667/3667 [==============================] - 12s 3ms/step - loss: 0.2393 - accuracy: 0.9132 - val_loss: 0.3065 - val_accuracy: 0.8912\n",
            "Epoch 17/30\n",
            "3667/3667 [==============================] - 11s 3ms/step - loss: 0.2355 - accuracy: 0.9132 - val_loss: 0.3114 - val_accuracy: 0.8874\n",
            "Epoch 18/30\n",
            "3667/3667 [==============================] - 10s 3ms/step - loss: 0.2283 - accuracy: 0.9164 - val_loss: 0.3079 - val_accuracy: 0.8894\n",
            "Epoch 19/30\n",
            "3667/3667 [==============================] - 11s 3ms/step - loss: 0.2237 - accuracy: 0.9182 - val_loss: 0.3012 - val_accuracy: 0.8956\n",
            "Epoch 20/30\n",
            "3667/3667 [==============================] - 10s 3ms/step - loss: 0.2176 - accuracy: 0.9199 - val_loss: 0.3105 - val_accuracy: 0.8898\n",
            "Epoch 21/30\n",
            "3667/3667 [==============================] - 10s 3ms/step - loss: 0.2133 - accuracy: 0.9215 - val_loss: 0.3056 - val_accuracy: 0.8846\n",
            "Epoch 22/30\n",
            "3667/3667 [==============================] - 13s 3ms/step - loss: 0.2080 - accuracy: 0.9234 - val_loss: 0.2916 - val_accuracy: 0.8966\n",
            "Epoch 23/30\n",
            "3667/3667 [==============================] - 13s 3ms/step - loss: 0.2026 - accuracy: 0.9251 - val_loss: 0.3133 - val_accuracy: 0.8882\n",
            "Epoch 24/30\n",
            "3667/3667 [==============================] - 13s 3ms/step - loss: 0.1990 - accuracy: 0.9271 - val_loss: 0.2965 - val_accuracy: 0.8966\n",
            "Epoch 25/30\n",
            "3667/3667 [==============================] - 13s 3ms/step - loss: 0.1936 - accuracy: 0.9305 - val_loss: 0.3411 - val_accuracy: 0.8746\n",
            "Epoch 26/30\n",
            "3667/3667 [==============================] - 13s 3ms/step - loss: 0.1886 - accuracy: 0.9312 - val_loss: 0.3152 - val_accuracy: 0.8908\n",
            "Epoch 27/30\n",
            "3667/3667 [==============================] - 13s 3ms/step - loss: 0.1856 - accuracy: 0.9322 - val_loss: 0.2943 - val_accuracy: 0.8974\n",
            "Epoch 28/30\n",
            "3667/3667 [==============================] - 13s 3ms/step - loss: 0.1808 - accuracy: 0.9337 - val_loss: 0.2905 - val_accuracy: 0.8958\n",
            "Epoch 29/30\n",
            "3667/3667 [==============================] - 13s 3ms/step - loss: 0.1751 - accuracy: 0.9359 - val_loss: 0.2916 - val_accuracy: 0.8978\n",
            "Epoch 30/30\n",
            "3667/3667 [==============================] - 13s 3ms/step - loss: 0.1731 - accuracy: 0.9367 - val_loss: 0.3146 - val_accuracy: 0.8932\n"
          ]
        }
      ],
      "source": [
        "model_2 = keras.models.Sequential([\n",
        "    keras.layers.Flatten(input_shape=[28, 28]),\n",
        "    keras.layers.Dense(300, activation=\"relu\"),\n",
        "    keras.layers.Dense(100, activation=\"relu\"),\n",
        "    keras.layers.Dense(10, activation=\"softmax\")\n",
        "])\n",
        "\n",
        "model_2.compile(loss=\"sparse_categorical_crossentropy\",\n",
        "              optimizer=\"sgd\",\n",
        "              metrics=[\"accuracy\"])\n",
        "\n",
        "history_2 = model_2.fit(X_train, y_train, batch_size=15, epochs=30,\n",
        "                    validation_data=(X_valid, y_valid))"
      ]
    },
    {
      "cell_type": "code",
      "execution_count": 143,
      "metadata": {},
      "outputs": [
        {
          "data": {
            "image/png": "[encoded data removed]",
            "text/plain": [
              "<Figure size 1332x252 with 2 Axes>"
            ]
          },
          "metadata": {
            "needs_background": "light"
          },
          "output_type": "display_data"
        }
      ],
      "source": [
        "\n",
        "data = pd.DataFrame(history.history)\n",
        "data_2= pd.DataFrame(history_2.history)\n",
        "\n",
        "f, (ax1, ax2) = plt.subplots(1, 2)\n",
        "f.set_size_inches(18.5, 3.5)\n",
        "f.suptitle('Learning curves using', fontsize=16)\n",
        "\n",
        "ax1.plot(data_2)\n",
        "ax1.set_title('batch_size = 32')\n",
        "ax1.grid(True)\n",
        "\n",
        "ax2.plot(data)\n",
        "ax2.set_title('batch_size = 15')\n",
        "ax2.grid(True)\n",
        "\n",
        "f.legend(data.columns, loc='center')\n",
        "plt.show()"
      ]
    },
    {
      "cell_type": "markdown",
      "metadata": {},
      "source": [
        "## 3) Plot Learning curves when using different number of epochs\n"
      ]
    },
    {
      "cell_type": "code",
      "execution_count": 144,
      "metadata": {},
      "outputs": [
        {
          "name": "stdout",
          "output_type": "stream",
          "text": [
            "Epoch 1/17\n",
            "1719/1719 [==============================] - 8s 4ms/step - loss: 0.7127 - accuracy: 0.7649 - val_loss: 0.5041 - val_accuracy: 0.8300\n",
            "Epoch 2/17\n",
            "1719/1719 [==============================] - 6s 3ms/step - loss: 0.4837 - accuracy: 0.8322 - val_loss: 0.4526 - val_accuracy: 0.8472\n",
            "Epoch 3/17\n",
            "1719/1719 [==============================] - 6s 4ms/step - loss: 0.4410 - accuracy: 0.8451 - val_loss: 0.4123 - val_accuracy: 0.8574\n",
            "Epoch 4/17\n",
            "1719/1719 [==============================] - 7s 4ms/step - loss: 0.4144 - accuracy: 0.8543 - val_loss: 0.3926 - val_accuracy: 0.8672\n",
            "Epoch 5/17\n",
            "1719/1719 [==============================] - 7s 4ms/step - loss: 0.3941 - accuracy: 0.8622 - val_loss: 0.3803 - val_accuracy: 0.8694\n",
            "Epoch 6/17\n",
            "1719/1719 [==============================] - 7s 4ms/step - loss: 0.3783 - accuracy: 0.8666 - val_loss: 0.3757 - val_accuracy: 0.8702\n",
            "Epoch 7/17\n",
            "1719/1719 [==============================] - 7s 4ms/step - loss: 0.3648 - accuracy: 0.8715 - val_loss: 0.3619 - val_accuracy: 0.8764\n",
            "Epoch 8/17\n",
            "1719/1719 [==============================] - 7s 4ms/step - loss: 0.3533 - accuracy: 0.8747 - val_loss: 0.3597 - val_accuracy: 0.8740\n",
            "Epoch 9/17\n",
            "1719/1719 [==============================] - 7s 4ms/step - loss: 0.3435 - accuracy: 0.8783 - val_loss: 0.3514 - val_accuracy: 0.8760\n",
            "Epoch 10/17\n",
            "1719/1719 [==============================] - 7s 4ms/step - loss: 0.3348 - accuracy: 0.8813 - val_loss: 0.3480 - val_accuracy: 0.8774\n",
            "Epoch 11/17\n",
            "1719/1719 [==============================] - 7s 4ms/step - loss: 0.3256 - accuracy: 0.8835 - val_loss: 0.3322 - val_accuracy: 0.8820\n",
            "Epoch 12/17\n",
            "1719/1719 [==============================] - 7s 4ms/step - loss: 0.3169 - accuracy: 0.8877 - val_loss: 0.3414 - val_accuracy: 0.8814\n",
            "Epoch 13/17\n",
            "1719/1719 [==============================] - 7s 4ms/step - loss: 0.3102 - accuracy: 0.8887 - val_loss: 0.3536 - val_accuracy: 0.8732\n",
            "Epoch 14/17\n",
            "1719/1719 [==============================] - 7s 4ms/step - loss: 0.3038 - accuracy: 0.8914 - val_loss: 0.3308 - val_accuracy: 0.8788\n",
            "Epoch 15/17\n",
            "1719/1719 [==============================] - 7s 4ms/step - loss: 0.2968 - accuracy: 0.8938 - val_loss: 0.3245 - val_accuracy: 0.8848\n",
            "Epoch 16/17\n",
            "1719/1719 [==============================] - 7s 4ms/step - loss: 0.2912 - accuracy: 0.8939 - val_loss: 0.3202 - val_accuracy: 0.8872\n",
            "Epoch 17/17\n",
            "1719/1719 [==============================] - 6s 4ms/step - loss: 0.2859 - accuracy: 0.8964 - val_loss: 0.3260 - val_accuracy: 0.8808\n"
          ]
        }
      ],
      "source": [
        "model_3 = keras.models.Sequential([\n",
        "    keras.layers.Flatten(input_shape=[28, 28]),\n",
        "    keras.layers.Dense(300, activation=\"relu\"),\n",
        "    keras.layers.Dense(100, activation=\"relu\"),\n",
        "    keras.layers.Dense(10, activation=\"softmax\")\n",
        "])\n",
        "\n",
        "model_3.compile(loss=\"sparse_categorical_crossentropy\",\n",
        "              optimizer=\"sgd\",\n",
        "              metrics=[\"accuracy\"])\n",
        "\n",
        "history_3 = model_3.fit(X_train, y_train, batch_size=32, epochs=17,\n",
        "                    validation_data=(X_valid, y_valid))"
      ]
    },
    {
      "cell_type": "code",
      "execution_count": 136,
      "metadata": {},
      "outputs": [
        {
          "ename": "NameError",
          "evalue": "name 'history_3' is not defined",
          "output_type": "error",
          "traceback": [
            "\u001b[1;31m---------------------------------------------------------------------------\u001b[0m",
            "\u001b[1;31mNameError\u001b[0m                                 Traceback (most recent call last)",
            "\u001b[1;32mc:\\Users\\user\\Desktop\\ANN_with_keras.ipynb\\ANN_with_keras .ipynb Cell 75'\u001b[0m in \u001b[0;36m<module>\u001b[1;34m\u001b[0m\n\u001b[0;32m      <a href='vscode-notebook-cell:/c%3A/Users/user/Desktop/ANN_with_keras.ipynb/ANN_with_keras%20.ipynb#ch0000075?line=0'>1</a>\u001b[0m data \u001b[39m=\u001b[39m pd\u001b[39m.\u001b[39mDataFrame(history\u001b[39m.\u001b[39mhistory)\n\u001b[1;32m----> <a href='vscode-notebook-cell:/c%3A/Users/user/Desktop/ANN_with_keras.ipynb/ANN_with_keras%20.ipynb#ch0000075?line=1'>2</a>\u001b[0m data_3\u001b[39m=\u001b[39m pd\u001b[39m.\u001b[39mDataFrame(history_3\u001b[39m.\u001b[39mhistory)\n\u001b[0;32m      <a href='vscode-notebook-cell:/c%3A/Users/user/Desktop/ANN_with_keras.ipynb/ANN_with_keras%20.ipynb#ch0000075?line=3'>4</a>\u001b[0m f, (ax1, ax2) \u001b[39m=\u001b[39m plt\u001b[39m.\u001b[39msubplots(\u001b[39m1\u001b[39m, \u001b[39m2\u001b[39m)\n\u001b[0;32m      <a href='vscode-notebook-cell:/c%3A/Users/user/Desktop/ANN_with_keras.ipynb/ANN_with_keras%20.ipynb#ch0000075?line=4'>5</a>\u001b[0m f\u001b[39m.\u001b[39mset_size_inches(\u001b[39m18.5\u001b[39m, \u001b[39m3.5\u001b[39m)\n",
            "\u001b[1;31mNameError\u001b[0m: name 'history_3' is not defined"
          ]
        }
      ],
      "source": [
        "data = pd.DataFrame(history.history)\n",
        "data_3= pd.DataFrame(history_3.history)\n",
        "\n",
        "f, (ax1, ax2) = plt.subplots(1, 2)\n",
        "f.set_size_inches(18.5, 3.5)\n",
        "f.suptitle('Learning curves using', fontsize=16)\n",
        "\n",
        "\n",
        "ax1.plot(data_3)\n",
        "ax1.set_title('epochs = 32')\n",
        "ax1.grid(True)\n",
        "\n",
        "ax2.plot(data)\n",
        "ax2.set_title('epochs = 17')\n",
        "ax2.grid(True)\n",
        "\n",
        "f.legend(data.columns, loc='center')\n",
        "plt.show()"
      ]
    },
    {
      "cell_type": "markdown",
      "metadata": {},
      "source": [
        "## 4) Add additional neurons and use Dropout Layer. Plot Learning curves.\n"
      ]
    },
    {
      "cell_type": "code",
      "execution_count": null,
      "metadata": {},
      "outputs": [],
      "source": [
        "model_4 = keras.models.Sequential([\n",
        "    keras.layers.Flatten(input_shape=[28, 28]),\n",
        "    keras.layers.Dense(300, activation=\"relu\"),\n",
        "    keras.layers.Dense(100, activation=\"relu\"),\n",
        "    keras.layers.Dense(10, activation=\"softmax\")\n",
        "])\n",
        "\n",
        "model_4.compile(loss=\"sparse_categorical_crossentropy\",\n",
        "              optimizer=\"sgd\",\n",
        "              metrics=[\"accuracy\"])\n",
        "\n",
        "history_4 = model_4.fit(X_train, y_train, batch_size=32, epochs=30,\n",
        "                    validation_data=(X_valid, y_valid))"
      ]
    },
    {
      "cell_type": "code",
      "execution_count": null,
      "metadata": {},
      "outputs": [],
      "source": [
        "data = pd.DataFrame(history.history)\n",
        "data_4= pd.DataFrame(history_3.history)\n",
        "\n",
        "f, (ax1, ax2) = plt.subplots(1, 2)\n",
        "f.set_size_inches(18.5, 3.5)\n",
        "f.suptitle('Learning curves using', fontsize=16)\n",
        "\n",
        "\n",
        "ax1.plot(data_4)\n",
        "ax1.set_title('epochs = 32')\n",
        "ax1.grid(True)\n",
        "\n",
        "ax2.plot(data)\n",
        "ax2.set_title('epochs = 17')\n",
        "ax2.grid(True)\n",
        "\n",
        "f.legend(data.columns, loc='center')\n",
        "plt.show()"
      ]
    }
  ],
  "metadata": {
    "colab": {
      "name": "ANN_with_keras.ipynb",
      "provenance": []
    },
    "kernelspec": {
      "display_name": "Python 3",
      "language": "python",
      "name": "python3"
    },
    "language_info": {
      "codemirror_mode": {
        "name": "ipython",
        "version": 3
      },
      "file_extension": ".py",
      "mimetype": "text/x-python",
      "name": "python",
      "nbconvert_exporter": "python",
      "pygments_lexer": "ipython3",
      "version": "3.10.2"
    },
    "nav_menu": {
      "height": "264px",
      "width": "369px"
    },
    "toc": {
      "navigate_menu": true,
      "number_sections": true,
      "sideBar": true,
      "threshold": 6,
      "toc_cell": false,
      "toc_section_display": "block",
      "toc_window_display": false
    }
  },
  "nbformat": 4,
  "nbformat_minor": 0
}
